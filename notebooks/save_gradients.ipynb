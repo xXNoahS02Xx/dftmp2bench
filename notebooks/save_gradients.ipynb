{
 "cells": [
  {
   "cell_type": "code",
   "execution_count": 98,
   "id": "c44288cd-5786-48cd-ba00-47690c4c8e15",
   "metadata": {},
   "outputs": [],
   "source": [
    "import polars as pl\n",
    "import matplotlib.pyplot as plt\n",
    "import sys\n",
    "import ase\n",
    "import json\n",
    "import numpy as np\n",
    "import scipy.optimize\n",
    "from matplotlib.lines import Line2D\n",
    "from matplotlib.patches import Patch\n",
    "from pathlib import Path\n",
    "from enum import Enum\n",
    "from ase.units import Hartree, kcal, mol\n",
    "from dftmp2bench.pareto import is_pareto_efficient\n",
    "from scipy.stats import linregress\n",
    "\n",
    "project_path = Path(\"/cluster/home/schmidtn/master/wahlprak/dftmp2bench\")\n",
    "output_path = Path(\"/cluster/home/schmidtn/master/wahlprak/dft-mp2-data/ala_dih_cons_opt_test/orca/ALA_neutral_singlet.xyz/rimp2/def2svp/ALA_neutral_singlet.xyz.fc73ddcf-e3d8-11ef-8425-5379090b8daf.property.json\")\n",
    "#output_path = Path(\"/cluster/home/schmidtn/master/wahlprak/dft-mp2-data/benchmark/orca/ala0.xyz/hf/631+gd/ala0.xyz.0022dbf8-d9a2-11ef-abea-d85ed34e2189.property.json\")"
   ]
  },
  {
   "cell_type": "code",
   "execution_count": 109,
   "id": "d8749bb5-ada9-4331-abd6-77f8358f8298",
   "metadata": {},
   "outputs": [
    {
     "ename": "JSONDecodeError",
     "evalue": "Expecting ',' delimiter: line 71 column 32 (char 3570)",
     "output_type": "error",
     "traceback": [
      "\u001b[0;31m---------------------------------------------------------------------------\u001b[0m",
      "\u001b[0;31mJSONDecodeError\u001b[0m                           Traceback (most recent call last)",
      "Cell \u001b[0;32mIn[109], line 14\u001b[0m\n\u001b[1;32m     11\u001b[0m \u001b[38;5;28;01mimport\u001b[39;00m\u001b[38;5;250m \u001b[39m\u001b[38;5;21;01mase\u001b[39;00m\n\u001b[1;32m     12\u001b[0m \u001b[38;5;28;01mimport\u001b[39;00m\u001b[38;5;250m \u001b[39m\u001b[38;5;21;01mase\u001b[39;00m\u001b[38;5;21;01m.\u001b[39;00m\u001b[38;5;21;01mio\u001b[39;00m\n\u001b[0;32m---> 14\u001b[0m \u001b[43mase\u001b[49m\u001b[38;5;241;43m.\u001b[39;49m\u001b[43mio\u001b[49m\u001b[38;5;241;43m.\u001b[39;49m\u001b[43mread\u001b[49m\u001b[43m(\u001b[49m\u001b[43moutput_path\u001b[49m\u001b[43m,\u001b[49m\u001b[43m \u001b[49m\u001b[38;5;28;43mformat\u001b[39;49m\u001b[38;5;241;43m=\u001b[39;49m\u001b[38;5;124;43m\"\u001b[39;49m\u001b[38;5;124;43mcjson\u001b[39;49m\u001b[38;5;124;43m\"\u001b[39;49m\u001b[43m)\u001b[49m\n",
      "File \u001b[0;32m~/master/wahlprak/dftmp2bench/.venv/lib/python3.10/site-packages/ase/io/formats.py:809\u001b[0m, in \u001b[0;36mread\u001b[0;34m(filename, index, format, parallel, do_not_split_by_at_sign, **kwargs)\u001b[0m\n\u001b[1;32m    806\u001b[0m     \u001b[38;5;28;01mreturn\u001b[39;00m \u001b[38;5;28mlist\u001b[39m(_iread(filename, index, \u001b[38;5;28mformat\u001b[39m, io, parallel\u001b[38;5;241m=\u001b[39mparallel,\n\u001b[1;32m    807\u001b[0m                        \u001b[38;5;241m*\u001b[39m\u001b[38;5;241m*\u001b[39mkwargs))\n\u001b[1;32m    808\u001b[0m \u001b[38;5;28;01melse\u001b[39;00m:\n\u001b[0;32m--> 809\u001b[0m     \u001b[38;5;28;01mreturn\u001b[39;00m \u001b[38;5;28;43mnext\u001b[39;49m\u001b[43m(\u001b[49m\u001b[43m_iread\u001b[49m\u001b[43m(\u001b[49m\u001b[43mfilename\u001b[49m\u001b[43m,\u001b[49m\u001b[43m \u001b[49m\u001b[38;5;28;43mslice\u001b[39;49m\u001b[43m(\u001b[49m\u001b[43mindex\u001b[49m\u001b[43m,\u001b[49m\u001b[43m \u001b[49m\u001b[38;5;28;43;01mNone\u001b[39;49;00m\u001b[43m)\u001b[49m\u001b[43m,\u001b[49m\u001b[43m \u001b[49m\u001b[38;5;28;43mformat\u001b[39;49m\u001b[43m,\u001b[49m\u001b[43m \u001b[49m\u001b[43mio\u001b[49m\u001b[43m,\u001b[49m\n\u001b[1;32m    810\u001b[0m \u001b[43m                       \u001b[49m\u001b[43mparallel\u001b[49m\u001b[38;5;241;43m=\u001b[39;49m\u001b[43mparallel\u001b[49m\u001b[43m,\u001b[49m\u001b[43m \u001b[49m\u001b[38;5;241;43m*\u001b[39;49m\u001b[38;5;241;43m*\u001b[39;49m\u001b[43mkwargs\u001b[49m\u001b[43m)\u001b[49m\u001b[43m)\u001b[49m\n",
      "File \u001b[0;32m~/master/wahlprak/dftmp2bench/.venv/lib/python3.10/site-packages/ase/parallel.py:302\u001b[0m, in \u001b[0;36mparallel_generator.<locals>.new_generator\u001b[0;34m(*args, **kwargs)\u001b[0m\n\u001b[1;32m    296\u001b[0m \u001b[38;5;129m@functools\u001b[39m\u001b[38;5;241m.\u001b[39mwraps(generator)\n\u001b[1;32m    297\u001b[0m \u001b[38;5;28;01mdef\u001b[39;00m\u001b[38;5;250m \u001b[39m\u001b[38;5;21mnew_generator\u001b[39m(\u001b[38;5;241m*\u001b[39margs, \u001b[38;5;241m*\u001b[39m\u001b[38;5;241m*\u001b[39mkwargs):\n\u001b[1;32m    298\u001b[0m     \u001b[38;5;28;01mif\u001b[39;00m (world\u001b[38;5;241m.\u001b[39msize \u001b[38;5;241m==\u001b[39m \u001b[38;5;241m1\u001b[39m \u001b[38;5;129;01mor\u001b[39;00m\n\u001b[1;32m    299\u001b[0m         args \u001b[38;5;129;01mand\u001b[39;00m \u001b[38;5;28mgetattr\u001b[39m(args[\u001b[38;5;241m0\u001b[39m], \u001b[38;5;124m'\u001b[39m\u001b[38;5;124mserial\u001b[39m\u001b[38;5;124m'\u001b[39m, \u001b[38;5;28;01mFalse\u001b[39;00m) \u001b[38;5;129;01mor\u001b[39;00m\n\u001b[1;32m    300\u001b[0m             \u001b[38;5;129;01mnot\u001b[39;00m kwargs\u001b[38;5;241m.\u001b[39mpop(\u001b[38;5;124m'\u001b[39m\u001b[38;5;124mparallel\u001b[39m\u001b[38;5;124m'\u001b[39m, \u001b[38;5;28;01mTrue\u001b[39;00m)):\n\u001b[1;32m    301\u001b[0m         \u001b[38;5;66;03m# Disable:\u001b[39;00m\n\u001b[0;32m--> 302\u001b[0m         \u001b[38;5;28;01mfor\u001b[39;00m result \u001b[38;5;129;01min\u001b[39;00m generator(\u001b[38;5;241m*\u001b[39margs, \u001b[38;5;241m*\u001b[39m\u001b[38;5;241m*\u001b[39mkwargs):\n\u001b[1;32m    303\u001b[0m             \u001b[38;5;28;01myield\u001b[39;00m result\n\u001b[1;32m    304\u001b[0m         \u001b[38;5;28;01mreturn\u001b[39;00m\n",
      "File \u001b[0;32m~/master/wahlprak/dftmp2bench/.venv/lib/python3.10/site-packages/ase/io/formats.py:875\u001b[0m, in \u001b[0;36m_iread\u001b[0;34m(filename, index, format, io, parallel, full_output, **kwargs)\u001b[0m\n\u001b[1;32m    873\u001b[0m \u001b[38;5;66;03m# Make sure fd is closed in case loop doesn't finish:\u001b[39;00m\n\u001b[1;32m    874\u001b[0m \u001b[38;5;28;01mtry\u001b[39;00m:\n\u001b[0;32m--> 875\u001b[0m     \u001b[38;5;28;01mfor\u001b[39;00m dct \u001b[38;5;129;01min\u001b[39;00m io\u001b[38;5;241m.\u001b[39mread(fd, \u001b[38;5;241m*\u001b[39margs, \u001b[38;5;241m*\u001b[39m\u001b[38;5;241m*\u001b[39mkwargs):\n\u001b[1;32m    876\u001b[0m         \u001b[38;5;28;01mif\u001b[39;00m \u001b[38;5;129;01mnot\u001b[39;00m \u001b[38;5;28misinstance\u001b[39m(dct, \u001b[38;5;28mdict\u001b[39m):\n\u001b[1;32m    877\u001b[0m             dct \u001b[38;5;241m=\u001b[39m {\u001b[38;5;124m'\u001b[39m\u001b[38;5;124matoms\u001b[39m\u001b[38;5;124m'\u001b[39m: dct}\n",
      "File \u001b[0;32m~/master/wahlprak/dftmp2bench/.venv/lib/python3.10/site-packages/ase/io/cjson.py:25\u001b[0m, in \u001b[0;36mread_cjson\u001b[0;34m(fileobj)\u001b[0m\n\u001b[1;32m     20\u001b[0m \u001b[38;5;28;01mdef\u001b[39;00m\u001b[38;5;250m \u001b[39m\u001b[38;5;21mread_cjson\u001b[39m(fileobj):\n\u001b[1;32m     21\u001b[0m \u001b[38;5;250m    \u001b[39m\u001b[38;5;124;03m\"\"\"Read a Chemical Json file as written by avogadro2 (>=1.93.0)\u001b[39;00m\n\u001b[1;32m     22\u001b[0m \n\u001b[1;32m     23\u001b[0m \u001b[38;5;124;03m    See https://wiki.openchemistry.org/Chemical_JSON\u001b[39;00m\n\u001b[1;32m     24\u001b[0m \u001b[38;5;124;03m    \"\"\"\u001b[39;00m\n\u001b[0;32m---> 25\u001b[0m     data \u001b[38;5;241m=\u001b[39m contract(\u001b[43mjson\u001b[49m\u001b[38;5;241;43m.\u001b[39;49m\u001b[43mload\u001b[49m\u001b[43m(\u001b[49m\u001b[43mfileobj\u001b[49m\u001b[43m)\u001b[49m)\n\u001b[1;32m     26\u001b[0m     atoms \u001b[38;5;241m=\u001b[39m Atoms()\n\u001b[1;32m     27\u001b[0m     datoms \u001b[38;5;241m=\u001b[39m data[\u001b[38;5;124m'\u001b[39m\u001b[38;5;124matoms\u001b[39m\u001b[38;5;124m'\u001b[39m]\n",
      "File \u001b[0;32m/usr/lib/python3.10/json/__init__.py:293\u001b[0m, in \u001b[0;36mload\u001b[0;34m(fp, cls, object_hook, parse_float, parse_int, parse_constant, object_pairs_hook, **kw)\u001b[0m\n\u001b[1;32m    274\u001b[0m \u001b[38;5;28;01mdef\u001b[39;00m\u001b[38;5;250m \u001b[39m\u001b[38;5;21mload\u001b[39m(fp, \u001b[38;5;241m*\u001b[39m, \u001b[38;5;28mcls\u001b[39m\u001b[38;5;241m=\u001b[39m\u001b[38;5;28;01mNone\u001b[39;00m, object_hook\u001b[38;5;241m=\u001b[39m\u001b[38;5;28;01mNone\u001b[39;00m, parse_float\u001b[38;5;241m=\u001b[39m\u001b[38;5;28;01mNone\u001b[39;00m,\n\u001b[1;32m    275\u001b[0m         parse_int\u001b[38;5;241m=\u001b[39m\u001b[38;5;28;01mNone\u001b[39;00m, parse_constant\u001b[38;5;241m=\u001b[39m\u001b[38;5;28;01mNone\u001b[39;00m, object_pairs_hook\u001b[38;5;241m=\u001b[39m\u001b[38;5;28;01mNone\u001b[39;00m, \u001b[38;5;241m*\u001b[39m\u001b[38;5;241m*\u001b[39mkw):\n\u001b[1;32m    276\u001b[0m \u001b[38;5;250m    \u001b[39m\u001b[38;5;124;03m\"\"\"Deserialize ``fp`` (a ``.read()``-supporting file-like object containing\u001b[39;00m\n\u001b[1;32m    277\u001b[0m \u001b[38;5;124;03m    a JSON document) to a Python object.\u001b[39;00m\n\u001b[1;32m    278\u001b[0m \n\u001b[0;32m   (...)\u001b[0m\n\u001b[1;32m    291\u001b[0m \u001b[38;5;124;03m    kwarg; otherwise ``JSONDecoder`` is used.\u001b[39;00m\n\u001b[1;32m    292\u001b[0m \u001b[38;5;124;03m    \"\"\"\u001b[39;00m\n\u001b[0;32m--> 293\u001b[0m     \u001b[38;5;28;01mreturn\u001b[39;00m \u001b[43mloads\u001b[49m\u001b[43m(\u001b[49m\u001b[43mfp\u001b[49m\u001b[38;5;241;43m.\u001b[39;49m\u001b[43mread\u001b[49m\u001b[43m(\u001b[49m\u001b[43m)\u001b[49m\u001b[43m,\u001b[49m\n\u001b[1;32m    294\u001b[0m \u001b[43m        \u001b[49m\u001b[38;5;28;43mcls\u001b[39;49m\u001b[38;5;241;43m=\u001b[39;49m\u001b[38;5;28;43mcls\u001b[39;49m\u001b[43m,\u001b[49m\u001b[43m \u001b[49m\u001b[43mobject_hook\u001b[49m\u001b[38;5;241;43m=\u001b[39;49m\u001b[43mobject_hook\u001b[49m\u001b[43m,\u001b[49m\n\u001b[1;32m    295\u001b[0m \u001b[43m        \u001b[49m\u001b[43mparse_float\u001b[49m\u001b[38;5;241;43m=\u001b[39;49m\u001b[43mparse_float\u001b[49m\u001b[43m,\u001b[49m\u001b[43m \u001b[49m\u001b[43mparse_int\u001b[49m\u001b[38;5;241;43m=\u001b[39;49m\u001b[43mparse_int\u001b[49m\u001b[43m,\u001b[49m\n\u001b[1;32m    296\u001b[0m \u001b[43m        \u001b[49m\u001b[43mparse_constant\u001b[49m\u001b[38;5;241;43m=\u001b[39;49m\u001b[43mparse_constant\u001b[49m\u001b[43m,\u001b[49m\u001b[43m \u001b[49m\u001b[43mobject_pairs_hook\u001b[49m\u001b[38;5;241;43m=\u001b[39;49m\u001b[43mobject_pairs_hook\u001b[49m\u001b[43m,\u001b[49m\u001b[43m \u001b[49m\u001b[38;5;241;43m*\u001b[39;49m\u001b[38;5;241;43m*\u001b[39;49m\u001b[43mkw\u001b[49m\u001b[43m)\u001b[49m\n",
      "File \u001b[0;32m/usr/lib/python3.10/json/__init__.py:346\u001b[0m, in \u001b[0;36mloads\u001b[0;34m(s, cls, object_hook, parse_float, parse_int, parse_constant, object_pairs_hook, **kw)\u001b[0m\n\u001b[1;32m    341\u001b[0m     s \u001b[38;5;241m=\u001b[39m s\u001b[38;5;241m.\u001b[39mdecode(detect_encoding(s), \u001b[38;5;124m'\u001b[39m\u001b[38;5;124msurrogatepass\u001b[39m\u001b[38;5;124m'\u001b[39m)\n\u001b[1;32m    343\u001b[0m \u001b[38;5;28;01mif\u001b[39;00m (\u001b[38;5;28mcls\u001b[39m \u001b[38;5;129;01mis\u001b[39;00m \u001b[38;5;28;01mNone\u001b[39;00m \u001b[38;5;129;01mand\u001b[39;00m object_hook \u001b[38;5;129;01mis\u001b[39;00m \u001b[38;5;28;01mNone\u001b[39;00m \u001b[38;5;129;01mand\u001b[39;00m\n\u001b[1;32m    344\u001b[0m         parse_int \u001b[38;5;129;01mis\u001b[39;00m \u001b[38;5;28;01mNone\u001b[39;00m \u001b[38;5;129;01mand\u001b[39;00m parse_float \u001b[38;5;129;01mis\u001b[39;00m \u001b[38;5;28;01mNone\u001b[39;00m \u001b[38;5;129;01mand\u001b[39;00m\n\u001b[1;32m    345\u001b[0m         parse_constant \u001b[38;5;129;01mis\u001b[39;00m \u001b[38;5;28;01mNone\u001b[39;00m \u001b[38;5;129;01mand\u001b[39;00m object_pairs_hook \u001b[38;5;129;01mis\u001b[39;00m \u001b[38;5;28;01mNone\u001b[39;00m \u001b[38;5;129;01mand\u001b[39;00m \u001b[38;5;129;01mnot\u001b[39;00m kw):\n\u001b[0;32m--> 346\u001b[0m     \u001b[38;5;28;01mreturn\u001b[39;00m \u001b[43m_default_decoder\u001b[49m\u001b[38;5;241;43m.\u001b[39;49m\u001b[43mdecode\u001b[49m\u001b[43m(\u001b[49m\u001b[43ms\u001b[49m\u001b[43m)\u001b[49m\n\u001b[1;32m    347\u001b[0m \u001b[38;5;28;01mif\u001b[39;00m \u001b[38;5;28mcls\u001b[39m \u001b[38;5;129;01mis\u001b[39;00m \u001b[38;5;28;01mNone\u001b[39;00m:\n\u001b[1;32m    348\u001b[0m     \u001b[38;5;28mcls\u001b[39m \u001b[38;5;241m=\u001b[39m JSONDecoder\n",
      "File \u001b[0;32m/usr/lib/python3.10/json/decoder.py:337\u001b[0m, in \u001b[0;36mJSONDecoder.decode\u001b[0;34m(self, s, _w)\u001b[0m\n\u001b[1;32m    332\u001b[0m \u001b[38;5;28;01mdef\u001b[39;00m\u001b[38;5;250m \u001b[39m\u001b[38;5;21mdecode\u001b[39m(\u001b[38;5;28mself\u001b[39m, s, _w\u001b[38;5;241m=\u001b[39mWHITESPACE\u001b[38;5;241m.\u001b[39mmatch):\n\u001b[1;32m    333\u001b[0m \u001b[38;5;250m    \u001b[39m\u001b[38;5;124;03m\"\"\"Return the Python representation of ``s`` (a ``str`` instance\u001b[39;00m\n\u001b[1;32m    334\u001b[0m \u001b[38;5;124;03m    containing a JSON document).\u001b[39;00m\n\u001b[1;32m    335\u001b[0m \n\u001b[1;32m    336\u001b[0m \u001b[38;5;124;03m    \"\"\"\u001b[39;00m\n\u001b[0;32m--> 337\u001b[0m     obj, end \u001b[38;5;241m=\u001b[39m \u001b[38;5;28;43mself\u001b[39;49m\u001b[38;5;241;43m.\u001b[39;49m\u001b[43mraw_decode\u001b[49m\u001b[43m(\u001b[49m\u001b[43ms\u001b[49m\u001b[43m,\u001b[49m\u001b[43m \u001b[49m\u001b[43midx\u001b[49m\u001b[38;5;241;43m=\u001b[39;49m\u001b[43m_w\u001b[49m\u001b[43m(\u001b[49m\u001b[43ms\u001b[49m\u001b[43m,\u001b[49m\u001b[43m \u001b[49m\u001b[38;5;241;43m0\u001b[39;49m\u001b[43m)\u001b[49m\u001b[38;5;241;43m.\u001b[39;49m\u001b[43mend\u001b[49m\u001b[43m(\u001b[49m\u001b[43m)\u001b[49m\u001b[43m)\u001b[49m\n\u001b[1;32m    338\u001b[0m     end \u001b[38;5;241m=\u001b[39m _w(s, end)\u001b[38;5;241m.\u001b[39mend()\n\u001b[1;32m    339\u001b[0m     \u001b[38;5;28;01mif\u001b[39;00m end \u001b[38;5;241m!=\u001b[39m \u001b[38;5;28mlen\u001b[39m(s):\n",
      "File \u001b[0;32m/usr/lib/python3.10/json/decoder.py:353\u001b[0m, in \u001b[0;36mJSONDecoder.raw_decode\u001b[0;34m(self, s, idx)\u001b[0m\n\u001b[1;32m    344\u001b[0m \u001b[38;5;250m\u001b[39m\u001b[38;5;124;03m\"\"\"Decode a JSON document from ``s`` (a ``str`` beginning with\u001b[39;00m\n\u001b[1;32m    345\u001b[0m \u001b[38;5;124;03ma JSON document) and return a 2-tuple of the Python\u001b[39;00m\n\u001b[1;32m    346\u001b[0m \u001b[38;5;124;03mrepresentation and the index in ``s`` where the document ended.\u001b[39;00m\n\u001b[0;32m   (...)\u001b[0m\n\u001b[1;32m    350\u001b[0m \n\u001b[1;32m    351\u001b[0m \u001b[38;5;124;03m\"\"\"\u001b[39;00m\n\u001b[1;32m    352\u001b[0m \u001b[38;5;28;01mtry\u001b[39;00m:\n\u001b[0;32m--> 353\u001b[0m     obj, end \u001b[38;5;241m=\u001b[39m \u001b[38;5;28;43mself\u001b[39;49m\u001b[38;5;241;43m.\u001b[39;49m\u001b[43mscan_once\u001b[49m\u001b[43m(\u001b[49m\u001b[43ms\u001b[49m\u001b[43m,\u001b[49m\u001b[43m \u001b[49m\u001b[43midx\u001b[49m\u001b[43m)\u001b[49m\n\u001b[1;32m    354\u001b[0m \u001b[38;5;28;01mexcept\u001b[39;00m \u001b[38;5;167;01mStopIteration\u001b[39;00m \u001b[38;5;28;01mas\u001b[39;00m err:\n\u001b[1;32m    355\u001b[0m     \u001b[38;5;28;01mraise\u001b[39;00m JSONDecodeError(\u001b[38;5;124m\"\u001b[39m\u001b[38;5;124mExpecting value\u001b[39m\u001b[38;5;124m\"\u001b[39m, s, err\u001b[38;5;241m.\u001b[39mvalue) \u001b[38;5;28;01mfrom\u001b[39;00m\u001b[38;5;250m \u001b[39m\u001b[38;5;28;01mNone\u001b[39;00m\n",
      "\u001b[0;31mJSONDecodeError\u001b[0m: Expecting ',' delimiter: line 71 column 32 (char 3570)"
     ]
    }
   ],
   "source": [
    "# pl.read_json(output_path, schema=[\"GRAD\"])\n",
    "output_path_ = Path(\n",
    "    \"/cluster/home/schmidtn/master/wahlprak/\"\\\n",
    "    \"dft-mp2-data/ala_dih_cons_opt_test/orca/ALA_neutral_singlet.xyz/\"\\\n",
    "    \"rimp2/def2svp/ALA_neutral_singlet.xyz.fc73ddcf-e3d8-11ef-8425-5379090b8daf.out\")\n",
    "\n",
    "import cclib\n",
    "import cclib.io\n",
    "# cclib.io.ccread(output_path_)\n",
    "\n",
    "import ase\n",
    "import ase.io\n",
    "\n",
    "ase.io.read(output_path)"
   ]
  },
  {
   "cell_type": "code",
   "execution_count": 99,
   "id": "ba62c9f2-8371-4a08-a855-db72d2dec2ff",
   "metadata": {},
   "outputs": [
    {
     "ename": "JSONDecodeError",
     "evalue": "Expecting ',' delimiter: line 71 column 32 (char 3570)",
     "output_type": "error",
     "traceback": [
      "\u001b[0;31m---------------------------------------------------------------------------\u001b[0m",
      "\u001b[0;31mJSONDecodeError\u001b[0m                           Traceback (most recent call last)",
      "Cell \u001b[0;32mIn[99], line 2\u001b[0m\n\u001b[1;32m      1\u001b[0m \u001b[38;5;28;01mwith\u001b[39;00m \u001b[38;5;28mopen\u001b[39m(output_path) \u001b[38;5;28;01mas\u001b[39;00m f:\n\u001b[0;32m----> 2\u001b[0m     data_dict \u001b[38;5;241m=\u001b[39m \u001b[43mjson\u001b[49m\u001b[38;5;241;43m.\u001b[39;49m\u001b[43mload\u001b[49m\u001b[43m(\u001b[49m\u001b[43mf\u001b[49m\u001b[43m)\u001b[49m\n\u001b[1;32m      3\u001b[0m \u001b[38;5;28mprint\u001b[39m(data_dict[\u001b[38;5;124m\"\u001b[39m\u001b[38;5;124mCalculation_Status\u001b[39m\u001b[38;5;124m\"\u001b[39m][\u001b[38;5;124m\"\u001b[39m\u001b[38;5;124mSTATUS\u001b[39m\u001b[38;5;124m\"\u001b[39m])\n\u001b[1;32m      7\u001b[0m \u001b[38;5;66;03m# import ast\u001b[39;00m\n\u001b[1;32m      8\u001b[0m \n\u001b[1;32m      9\u001b[0m \u001b[38;5;66;03m# with open(output_path) as f:\u001b[39;00m\n\u001b[1;32m     10\u001b[0m \u001b[38;5;66;03m#     data_string = f.read()\u001b[39;00m\n\u001b[1;32m     11\u001b[0m \u001b[38;5;66;03m# #print(data_string)\u001b[39;00m\n\u001b[1;32m     12\u001b[0m \u001b[38;5;66;03m# data_dict = ast.literal_eval(data_string)\u001b[39;00m\n",
      "File \u001b[0;32m/usr/lib/python3.10/json/__init__.py:293\u001b[0m, in \u001b[0;36mload\u001b[0;34m(fp, cls, object_hook, parse_float, parse_int, parse_constant, object_pairs_hook, **kw)\u001b[0m\n\u001b[1;32m    274\u001b[0m \u001b[38;5;28;01mdef\u001b[39;00m\u001b[38;5;250m \u001b[39m\u001b[38;5;21mload\u001b[39m(fp, \u001b[38;5;241m*\u001b[39m, \u001b[38;5;28mcls\u001b[39m\u001b[38;5;241m=\u001b[39m\u001b[38;5;28;01mNone\u001b[39;00m, object_hook\u001b[38;5;241m=\u001b[39m\u001b[38;5;28;01mNone\u001b[39;00m, parse_float\u001b[38;5;241m=\u001b[39m\u001b[38;5;28;01mNone\u001b[39;00m,\n\u001b[1;32m    275\u001b[0m         parse_int\u001b[38;5;241m=\u001b[39m\u001b[38;5;28;01mNone\u001b[39;00m, parse_constant\u001b[38;5;241m=\u001b[39m\u001b[38;5;28;01mNone\u001b[39;00m, object_pairs_hook\u001b[38;5;241m=\u001b[39m\u001b[38;5;28;01mNone\u001b[39;00m, \u001b[38;5;241m*\u001b[39m\u001b[38;5;241m*\u001b[39mkw):\n\u001b[1;32m    276\u001b[0m \u001b[38;5;250m    \u001b[39m\u001b[38;5;124;03m\"\"\"Deserialize ``fp`` (a ``.read()``-supporting file-like object containing\u001b[39;00m\n\u001b[1;32m    277\u001b[0m \u001b[38;5;124;03m    a JSON document) to a Python object.\u001b[39;00m\n\u001b[1;32m    278\u001b[0m \n\u001b[0;32m   (...)\u001b[0m\n\u001b[1;32m    291\u001b[0m \u001b[38;5;124;03m    kwarg; otherwise ``JSONDecoder`` is used.\u001b[39;00m\n\u001b[1;32m    292\u001b[0m \u001b[38;5;124;03m    \"\"\"\u001b[39;00m\n\u001b[0;32m--> 293\u001b[0m     \u001b[38;5;28;01mreturn\u001b[39;00m \u001b[43mloads\u001b[49m\u001b[43m(\u001b[49m\u001b[43mfp\u001b[49m\u001b[38;5;241;43m.\u001b[39;49m\u001b[43mread\u001b[49m\u001b[43m(\u001b[49m\u001b[43m)\u001b[49m\u001b[43m,\u001b[49m\n\u001b[1;32m    294\u001b[0m \u001b[43m        \u001b[49m\u001b[38;5;28;43mcls\u001b[39;49m\u001b[38;5;241;43m=\u001b[39;49m\u001b[38;5;28;43mcls\u001b[39;49m\u001b[43m,\u001b[49m\u001b[43m \u001b[49m\u001b[43mobject_hook\u001b[49m\u001b[38;5;241;43m=\u001b[39;49m\u001b[43mobject_hook\u001b[49m\u001b[43m,\u001b[49m\n\u001b[1;32m    295\u001b[0m \u001b[43m        \u001b[49m\u001b[43mparse_float\u001b[49m\u001b[38;5;241;43m=\u001b[39;49m\u001b[43mparse_float\u001b[49m\u001b[43m,\u001b[49m\u001b[43m \u001b[49m\u001b[43mparse_int\u001b[49m\u001b[38;5;241;43m=\u001b[39;49m\u001b[43mparse_int\u001b[49m\u001b[43m,\u001b[49m\n\u001b[1;32m    296\u001b[0m \u001b[43m        \u001b[49m\u001b[43mparse_constant\u001b[49m\u001b[38;5;241;43m=\u001b[39;49m\u001b[43mparse_constant\u001b[49m\u001b[43m,\u001b[49m\u001b[43m \u001b[49m\u001b[43mobject_pairs_hook\u001b[49m\u001b[38;5;241;43m=\u001b[39;49m\u001b[43mobject_pairs_hook\u001b[49m\u001b[43m,\u001b[49m\u001b[43m \u001b[49m\u001b[38;5;241;43m*\u001b[39;49m\u001b[38;5;241;43m*\u001b[39;49m\u001b[43mkw\u001b[49m\u001b[43m)\u001b[49m\n",
      "File \u001b[0;32m/usr/lib/python3.10/json/__init__.py:346\u001b[0m, in \u001b[0;36mloads\u001b[0;34m(s, cls, object_hook, parse_float, parse_int, parse_constant, object_pairs_hook, **kw)\u001b[0m\n\u001b[1;32m    341\u001b[0m     s \u001b[38;5;241m=\u001b[39m s\u001b[38;5;241m.\u001b[39mdecode(detect_encoding(s), \u001b[38;5;124m'\u001b[39m\u001b[38;5;124msurrogatepass\u001b[39m\u001b[38;5;124m'\u001b[39m)\n\u001b[1;32m    343\u001b[0m \u001b[38;5;28;01mif\u001b[39;00m (\u001b[38;5;28mcls\u001b[39m \u001b[38;5;129;01mis\u001b[39;00m \u001b[38;5;28;01mNone\u001b[39;00m \u001b[38;5;129;01mand\u001b[39;00m object_hook \u001b[38;5;129;01mis\u001b[39;00m \u001b[38;5;28;01mNone\u001b[39;00m \u001b[38;5;129;01mand\u001b[39;00m\n\u001b[1;32m    344\u001b[0m         parse_int \u001b[38;5;129;01mis\u001b[39;00m \u001b[38;5;28;01mNone\u001b[39;00m \u001b[38;5;129;01mand\u001b[39;00m parse_float \u001b[38;5;129;01mis\u001b[39;00m \u001b[38;5;28;01mNone\u001b[39;00m \u001b[38;5;129;01mand\u001b[39;00m\n\u001b[1;32m    345\u001b[0m         parse_constant \u001b[38;5;129;01mis\u001b[39;00m \u001b[38;5;28;01mNone\u001b[39;00m \u001b[38;5;129;01mand\u001b[39;00m object_pairs_hook \u001b[38;5;129;01mis\u001b[39;00m \u001b[38;5;28;01mNone\u001b[39;00m \u001b[38;5;129;01mand\u001b[39;00m \u001b[38;5;129;01mnot\u001b[39;00m kw):\n\u001b[0;32m--> 346\u001b[0m     \u001b[38;5;28;01mreturn\u001b[39;00m \u001b[43m_default_decoder\u001b[49m\u001b[38;5;241;43m.\u001b[39;49m\u001b[43mdecode\u001b[49m\u001b[43m(\u001b[49m\u001b[43ms\u001b[49m\u001b[43m)\u001b[49m\n\u001b[1;32m    347\u001b[0m \u001b[38;5;28;01mif\u001b[39;00m \u001b[38;5;28mcls\u001b[39m \u001b[38;5;129;01mis\u001b[39;00m \u001b[38;5;28;01mNone\u001b[39;00m:\n\u001b[1;32m    348\u001b[0m     \u001b[38;5;28mcls\u001b[39m \u001b[38;5;241m=\u001b[39m JSONDecoder\n",
      "File \u001b[0;32m/usr/lib/python3.10/json/decoder.py:337\u001b[0m, in \u001b[0;36mJSONDecoder.decode\u001b[0;34m(self, s, _w)\u001b[0m\n\u001b[1;32m    332\u001b[0m \u001b[38;5;28;01mdef\u001b[39;00m\u001b[38;5;250m \u001b[39m\u001b[38;5;21mdecode\u001b[39m(\u001b[38;5;28mself\u001b[39m, s, _w\u001b[38;5;241m=\u001b[39mWHITESPACE\u001b[38;5;241m.\u001b[39mmatch):\n\u001b[1;32m    333\u001b[0m \u001b[38;5;250m    \u001b[39m\u001b[38;5;124;03m\"\"\"Return the Python representation of ``s`` (a ``str`` instance\u001b[39;00m\n\u001b[1;32m    334\u001b[0m \u001b[38;5;124;03m    containing a JSON document).\u001b[39;00m\n\u001b[1;32m    335\u001b[0m \n\u001b[1;32m    336\u001b[0m \u001b[38;5;124;03m    \"\"\"\u001b[39;00m\n\u001b[0;32m--> 337\u001b[0m     obj, end \u001b[38;5;241m=\u001b[39m \u001b[38;5;28;43mself\u001b[39;49m\u001b[38;5;241;43m.\u001b[39;49m\u001b[43mraw_decode\u001b[49m\u001b[43m(\u001b[49m\u001b[43ms\u001b[49m\u001b[43m,\u001b[49m\u001b[43m \u001b[49m\u001b[43midx\u001b[49m\u001b[38;5;241;43m=\u001b[39;49m\u001b[43m_w\u001b[49m\u001b[43m(\u001b[49m\u001b[43ms\u001b[49m\u001b[43m,\u001b[49m\u001b[43m \u001b[49m\u001b[38;5;241;43m0\u001b[39;49m\u001b[43m)\u001b[49m\u001b[38;5;241;43m.\u001b[39;49m\u001b[43mend\u001b[49m\u001b[43m(\u001b[49m\u001b[43m)\u001b[49m\u001b[43m)\u001b[49m\n\u001b[1;32m    338\u001b[0m     end \u001b[38;5;241m=\u001b[39m _w(s, end)\u001b[38;5;241m.\u001b[39mend()\n\u001b[1;32m    339\u001b[0m     \u001b[38;5;28;01mif\u001b[39;00m end \u001b[38;5;241m!=\u001b[39m \u001b[38;5;28mlen\u001b[39m(s):\n",
      "File \u001b[0;32m/usr/lib/python3.10/json/decoder.py:353\u001b[0m, in \u001b[0;36mJSONDecoder.raw_decode\u001b[0;34m(self, s, idx)\u001b[0m\n\u001b[1;32m    344\u001b[0m \u001b[38;5;250m\u001b[39m\u001b[38;5;124;03m\"\"\"Decode a JSON document from ``s`` (a ``str`` beginning with\u001b[39;00m\n\u001b[1;32m    345\u001b[0m \u001b[38;5;124;03ma JSON document) and return a 2-tuple of the Python\u001b[39;00m\n\u001b[1;32m    346\u001b[0m \u001b[38;5;124;03mrepresentation and the index in ``s`` where the document ended.\u001b[39;00m\n\u001b[0;32m   (...)\u001b[0m\n\u001b[1;32m    350\u001b[0m \n\u001b[1;32m    351\u001b[0m \u001b[38;5;124;03m\"\"\"\u001b[39;00m\n\u001b[1;32m    352\u001b[0m \u001b[38;5;28;01mtry\u001b[39;00m:\n\u001b[0;32m--> 353\u001b[0m     obj, end \u001b[38;5;241m=\u001b[39m \u001b[38;5;28;43mself\u001b[39;49m\u001b[38;5;241;43m.\u001b[39;49m\u001b[43mscan_once\u001b[49m\u001b[43m(\u001b[49m\u001b[43ms\u001b[49m\u001b[43m,\u001b[49m\u001b[43m \u001b[49m\u001b[43midx\u001b[49m\u001b[43m)\u001b[49m\n\u001b[1;32m    354\u001b[0m \u001b[38;5;28;01mexcept\u001b[39;00m \u001b[38;5;167;01mStopIteration\u001b[39;00m \u001b[38;5;28;01mas\u001b[39;00m err:\n\u001b[1;32m    355\u001b[0m     \u001b[38;5;28;01mraise\u001b[39;00m JSONDecodeError(\u001b[38;5;124m\"\u001b[39m\u001b[38;5;124mExpecting value\u001b[39m\u001b[38;5;124m\"\u001b[39m, s, err\u001b[38;5;241m.\u001b[39mvalue) \u001b[38;5;28;01mfrom\u001b[39;00m\u001b[38;5;250m \u001b[39m\u001b[38;5;28;01mNone\u001b[39;00m\n",
      "\u001b[0;31mJSONDecodeError\u001b[0m: Expecting ',' delimiter: line 71 column 32 (char 3570)"
     ]
    }
   ],
   "source": [
    "with open(output_path) as f:\n",
    "    data_dict = json.load(f)\n",
    "print(data_dict[\"Calculation_Status\"][\"STATUS\"])\n",
    "\n",
    "\n",
    "\n",
    "# import ast\n",
    "\n",
    "# with open(output_path) as f:\n",
    "#     data_string = f.read()\n",
    "# #print(data_string)\n",
    "# data_dict = ast.literal_eval(data_string)"
   ]
  },
  {
   "cell_type": "code",
   "execution_count": 110,
   "id": "e2ed4b28-fa27-47c0-bb8d-b5e849e9fadc",
   "metadata": {},
   "outputs": [
    {
     "data": {
      "text/plain": [
       "PosixPath('/cluster/home/schmidtn/master/wahlprak/dft-mp2-data/ala_dih_cons_opt_test/orca/ALA_neutral_singlet.xyz/rimp2/def2svp/ALA_neutral_singlet.xyz.fc73ddcf-e3d8-11ef-8425-5379090b8daf.property.json')"
      ]
     },
     "execution_count": 110,
     "metadata": {},
     "output_type": "execute_result"
    }
   ],
   "source": [
    "output_path"
   ]
  },
  {
   "cell_type": "code",
   "execution_count": 111,
   "id": "00d469b3-1f39-4306-8264-04934b172845",
   "metadata": {},
   "outputs": [],
   "source": [
    "\"GRAD\"\n",
    "\n"
   ]
  },
  {
   "cell_type": "code",
   "execution_count": 118,
   "id": "8f325e1d-229f-404a-be2c-43801366b056",
   "metadata": {
    "scrolled": true
   },
   "outputs": [],
   "source": []
  },
  {
   "cell_type": "code",
   "execution_count": 149,
   "id": "2f5b58ea-ee74-40b2-b8d6-dc0152b85229",
   "metadata": {
    "scrolled": true
   },
   "outputs": [],
   "source": [
    "def recover_gradients_from_malformed_json(output_path, natoms=42):\n",
    "    \"\"\"Unofficial implementation of the 'find out' function \n",
    "    ('fuck around' function not yet public)\"\"\"\n",
    "    \n",
    "    with open(output_path) as f:\n",
    "        output_str = f.read()\n",
    "    \n",
    "    no_ws = output_str.replace(\" \", \"\")\n",
    "    no_ws = no_ws.replace(\"\\n\", \"\")\n",
    "    no_ws_reversed = no_ws[::-1]\n",
    "\n",
    "    if not \"DARG\" in no_ws_reversed:\n",
    "        # return np.zeros(natoms, 3)\n",
    "        return None\n",
    "    \n",
    "    darg_idx = no_ws_reversed.index(\"DARG\")\n",
    "    darg_hit_prefix = no_ws_reversed[0:darg_idx:1][::-1]\n",
    "    close_bracket_idx = darg_hit_prefix.index(\"}\")\n",
    "    \n",
    "    txt_array = darg_hit_prefix[2:close_bracket_idx]\n",
    "    txt_array = txt_array.replace(\"[\", \" \")\n",
    "    txt_array = txt_array.replace(\"]\", \" \")\n",
    "    \n",
    "    from io import StringIO\n",
    "    s = StringIO(txt_array)\n",
    "    \n",
    "    data = np.genfromtxt(s, delimiter=\",\")\n",
    "    forces = data.reshape(natoms, 3)\n",
    "    return forces"
   ]
  },
  {
   "cell_type": "code",
   "execution_count": 150,
   "id": "08a3c024-abe8-4986-bbf1-a718552df7a1",
   "metadata": {},
   "outputs": [
    {
     "data": {
      "text/plain": [
       "array([[-5.98761648e-06, -1.43875318e-05, -2.61569054e-06],\n",
       "       [-2.49356193e-06, -2.05156966e-06, -5.84452599e-07],\n",
       "       [ 3.41659687e-06, -6.11957793e-06, -6.01215766e-06],\n",
       "       [-3.34251532e-05,  2.85339790e-05, -1.33189480e-06],\n",
       "       [ 1.27844383e-05,  1.22971631e-05,  3.14121105e-05],\n",
       "       [ 5.40002840e-06,  2.01029216e-06, -1.23922745e-06],\n",
       "       [-1.99579993e-05, -8.55981662e-07, -1.41616849e-06],\n",
       "       [ 1.02492281e-04,  9.53314196e-04, -1.40141715e-03],\n",
       "       [-3.84466314e-06,  4.09659698e-06,  1.81236051e-06],\n",
       "       [ 5.73494239e-06, -9.11789500e-06, -1.07459323e-06],\n",
       "       [ 1.60775128e-06,  2.37557827e-06, -5.36020336e-06],\n",
       "       [ 2.79358730e-05,  4.83999456e-05,  2.35901282e-05],\n",
       "       [-2.44624989e-04, -9.89495817e-04,  7.83562382e-04],\n",
       "       [-2.23937798e-05,  5.24943079e-05, -2.87575696e-05],\n",
       "       [ 1.64130737e-04, -3.91482203e-04,  1.58873655e-03],\n",
       "       [ 9.24575504e-06,  1.05009577e-05, -6.13235823e-07],\n",
       "       [ 4.62242170e-06,  1.75508831e-06, -1.16192740e-05],\n",
       "       [ 2.91170288e-04, -1.83286342e-04,  1.06909002e-05],\n",
       "       [ 3.48884419e-06, -8.17713356e-06,  4.24644038e-06],\n",
       "       [ 1.24667928e-06,  6.59019380e-06, -1.70733845e-06],\n",
       "       [-2.10528254e-06, -5.38621762e-06,  1.79408232e-05],\n",
       "       [ 1.62939941e-05, -6.50734422e-05, -6.49740683e-05],\n",
       "       [ 4.15395176e-06,  2.81555191e-06, -6.75025650e-06],\n",
       "       [ 2.96409789e-06,  3.33535830e-06, -3.67901754e-06],\n",
       "       [ 3.50304282e-06, -5.53540197e-06, -9.19737788e-06],\n",
       "       [ 1.67442025e-06,  2.11916915e-06, -3.79801688e-06],\n",
       "       [-2.48451226e-06, -4.53217307e-06,  2.07885910e-06],\n",
       "       [-3.80244023e-06,  8.39758475e-07,  1.56437229e-06],\n",
       "       [-2.23640245e-06, -5.28614294e-07, -2.13213292e-07],\n",
       "       [ 1.24011727e-06,  3.42051614e-06,  3.47895187e-06],\n",
       "       [-1.21227272e-06,  1.21814483e-06,  4.27697905e-06],\n",
       "       [-3.36616072e-04,  5.55297012e-04, -9.14146791e-04],\n",
       "       [ 7.77780215e-06,  5.20121593e-06, -1.73853480e-05],\n",
       "       [ 3.92196304e-05, -3.07233291e-05,  2.67214088e-05],\n",
       "       [-1.26337850e-05,  2.73396134e-06, -3.77332310e-06],\n",
       "       [-1.24184831e-05, -1.29766714e-05, -7.86551880e-06],\n",
       "       [-1.13734657e-05,  4.23592229e-05,  8.54319566e-06],\n",
       "       [ 3.74717039e-06, -8.82324513e-06,  3.58984585e-06],\n",
       "       [-7.27438151e-06,  1.20798160e-05,  8.60924076e-08],\n",
       "       [ 9.30483344e-06,  1.76965624e-05, -2.53075398e-06],\n",
       "       [-2.61880284e-06, -3.45885661e-05, -1.30882768e-05],\n",
       "       [ 4.34794875e-06,  1.65712229e-06, -1.18048700e-06]])"
      ]
     },
     "execution_count": 150,
     "metadata": {},
     "output_type": "execute_result"
    }
   ],
   "source": [
    "recover_gradients_from_malformed_json(output_path)"
   ]
  },
  {
   "cell_type": "code",
   "execution_count": 152,
   "id": "93918a99-d2a1-485e-bfc9-f77ee2dd27c6",
   "metadata": {},
   "outputs": [],
   "source": [
    "top_path = Path(\"/cluster/home/schmidtn/master/wahlprak/dft-mp2-data/ala_dih_cons_opt_test/orca/ALA_neutral_singlet.xyz/\")\n",
    "list_of_jsons = list(top_path.glob(\"*/*/*json\"))\n",
    "gradients = [recover_gradients_from_malformed_json(_) for _ in list_of_jsons]\n",
    "# gradients"
   ]
  },
  {
   "cell_type": "code",
   "execution_count": 165,
   "id": "9ea29a27-30d8-471b-a0e3-ec181f30f598",
   "metadata": {},
   "outputs": [],
   "source": [
    "def rmsd(a, b):\n",
    "    return (np.mean( (a - b)**2 ))**0.5"
   ]
  },
  {
   "cell_type": "code",
   "execution_count": 185,
   "id": "89088798-3344-475d-85f8-90da5eeacfa4",
   "metadata": {},
   "outputs": [
    {
     "name": "stderr",
     "output_type": "stream",
     "text": [
      "/tmp/ipykernel_3864201/3895628771.py:18: RuntimeWarning: divide by zero encountered in log\n",
      "  np.log(\n"
     ]
    }
   ],
   "source": [
    "json_grad_dict = {str(k): v.flatten() for k,v in zip(list_of_jsons, gradients) if v is not None}\n",
    "pl.DataFrame(json_grad_dict).write_csv(\"gradients.csv\")\n",
    "\n",
    "data_dict = {\"key1\": [], \"key2\": [], \"rmsd\": [], \"ln_rmsd\": [], \n",
    "             \"functional1\": [], \"basis1\": [],\n",
    "             \"functional2\": [], \"basis2\": [],\n",
    "            }\n",
    "\n",
    "done_key_pairs = []\n",
    "\n",
    "\n",
    "for k in json_grad_dict.keys():\n",
    "    for k2 in json_grad_dict.keys():\n",
    "        if k != k2 and (k2, k) not in done_key_pairs:\n",
    "            data_dict[\"key1\"].append(k)\n",
    "            data_dict[\"key2\"].append(k2)\n",
    "            data_dict[\"ln_rmsd\"].append(\n",
    "                np.log(\n",
    "                    2240.874995 * rmsd(json_grad_dict[k], json_grad_dict[k2]))\n",
    "            )\n",
    "            data_dict[\"rmsd\"].append(\n",
    "                2240.874995 * rmsd(json_grad_dict[k], json_grad_dict[k2]))\n",
    "            \n",
    "            path_split1 = str(k).split(\"/\")\n",
    "            path_split2 = str(k2).split(\"/\")\n",
    "            data_dict[\"functional1\"].append(path_split1[-3])\n",
    "            data_dict[\"functional2\"].append(path_split2[-3])\n",
    "            data_dict[\"basis1\"].append(path_split1[-2])\n",
    "            data_dict[\"basis2\"].append(path_split2[-2])\n",
    "            done_key_pairs.append((k, k2))\n",
    "            \n"
   ]
  },
  {
   "cell_type": "code",
   "execution_count": 186,
   "id": "5a99d4ba-36ad-4362-8abf-303692ac23ae",
   "metadata": {},
   "outputs": [
    {
     "data": {
      "text/plain": [
       "('/cluster/home/schmidtn/master/wahlprak/dft-mp2-data/ala_dih_cons_opt_test/orca/ALA_neutral_singlet.xyz/PBEh-3c/def2svp/ALA_neutral_singlet.xyz.fc73ddd1-e3d8-11ef-8425-5379090b8daf.property.json',\n",
       " '/cluster/home/schmidtn/master/wahlprak/dft-mp2-data/ala_dih_cons_opt_test/orca/ALA_neutral_singlet.xyz/PBEh-3c/631+gd/ALA_neutral_singlet.xyz.fc73ddd8-e3d8-11ef-8425-5379090b8daf.property.json')"
      ]
     },
     "execution_count": 186,
     "metadata": {},
     "output_type": "execute_result"
    }
   ],
   "source": [
    "df = pl.DataFrame(data_dict)\n",
    "\n",
    "df[\"key1\"][-3], df[\"key2\"][-3]"
   ]
  },
  {
   "cell_type": "code",
   "execution_count": 188,
   "id": "69d82c5e-7d30-4c62-b3f2-f4f57507e6f3",
   "metadata": {},
   "outputs": [],
   "source": [
    "just_rimp2_comparisons = df.filter((pl.col(\"functional1\") == \"rimp2\") | (pl.col(\"functional2\") == \"rimp2\"))"
   ]
  },
  {
   "cell_type": "code",
   "execution_count": 190,
   "id": "87c556db-7841-4d48-a5d7-a3be1de8daf2",
   "metadata": {
    "scrolled": true
   },
   "outputs": [
    {
     "data": {
      "text/html": [
       "<div><style>\n",
       ".dataframe > thead > tr,\n",
       ".dataframe > tbody > tr {\n",
       "  text-align: right;\n",
       "  white-space: pre-wrap;\n",
       "}\n",
       "</style>\n",
       "<small>shape: (7, 8)</small><table border=\"1\" class=\"dataframe\"><thead><tr><th>key1</th><th>key2</th><th>rmsd</th><th>ln_rmsd</th><th>functional1</th><th>basis1</th><th>functional2</th><th>basis2</th></tr><tr><td>str</td><td>str</td><td>f64</td><td>f64</td><td>str</td><td>str</td><td>str</td><td>str</td></tr></thead><tbody><tr><td>&quot;/cluster/home/schmidtn/master/…</td><td>&quot;/cluster/home/schmidtn/master/…</td><td>0.275858</td><td>-1.287868</td><td>&quot;rimp2&quot;</td><td>&quot;def2svp&quot;</td><td>&quot;pbe0&quot;</td><td>&quot;def2svp&quot;</td></tr><tr><td>&quot;/cluster/home/schmidtn/master/…</td><td>&quot;/cluster/home/schmidtn/master/…</td><td>0.347801</td><td>-1.056126</td><td>&quot;hf&quot;</td><td>&quot;def2svp&quot;</td><td>&quot;rimp2&quot;</td><td>&quot;def2svp&quot;</td></tr><tr><td>&quot;/cluster/home/schmidtn/master/…</td><td>&quot;/cluster/home/schmidtn/master/…</td><td>0.391529</td><td>-0.937697</td><td>&quot;hf&quot;</td><td>&quot;631+gd&quot;</td><td>&quot;rimp2&quot;</td><td>&quot;def2svp&quot;</td></tr><tr><td>&quot;/cluster/home/schmidtn/master/…</td><td>&quot;/cluster/home/schmidtn/master/…</td><td>0.5345</td><td>-0.626424</td><td>&quot;rimp2&quot;</td><td>&quot;def2svp&quot;</td><td>&quot;pbe0&quot;</td><td>&quot;631+gd&quot;</td></tr><tr><td>&quot;/cluster/home/schmidtn/master/…</td><td>&quot;/cluster/home/schmidtn/master/…</td><td>0.622597</td><td>-0.473855</td><td>&quot;rimp2&quot;</td><td>&quot;def2svp&quot;</td><td>&quot;b2plyp&quot;</td><td>&quot;def2svp&quot;</td></tr><tr><td>&quot;/cluster/home/schmidtn/master/…</td><td>&quot;/cluster/home/schmidtn/master/…</td><td>0.626725</td><td>-0.467247</td><td>&quot;rimp2&quot;</td><td>&quot;def2svp&quot;</td><td>&quot;PBEh-3c&quot;</td><td>&quot;def2svp&quot;</td></tr><tr><td>&quot;/cluster/home/schmidtn/master/…</td><td>&quot;/cluster/home/schmidtn/master/…</td><td>0.626725</td><td>-0.467247</td><td>&quot;rimp2&quot;</td><td>&quot;def2svp&quot;</td><td>&quot;PBEh-3c&quot;</td><td>&quot;631+gd&quot;</td></tr></tbody></table></div>"
      ],
      "text/plain": [
       "shape: (7, 8)\n",
       "┌─────────────┬─────────────┬──────────┬───────────┬─────────────┬─────────┬─────────────┬─────────┐\n",
       "│ key1        ┆ key2        ┆ rmsd     ┆ ln_rmsd   ┆ functional1 ┆ basis1  ┆ functional2 ┆ basis2  │\n",
       "│ ---         ┆ ---         ┆ ---      ┆ ---       ┆ ---         ┆ ---     ┆ ---         ┆ ---     │\n",
       "│ str         ┆ str         ┆ f64      ┆ f64       ┆ str         ┆ str     ┆ str         ┆ str     │\n",
       "╞═════════════╪═════════════╪══════════╪═══════════╪═════════════╪═════════╪═════════════╪═════════╡\n",
       "│ /cluster/ho ┆ /cluster/ho ┆ 0.275858 ┆ -1.287868 ┆ rimp2       ┆ def2svp ┆ pbe0        ┆ def2svp │\n",
       "│ me/schmidtn ┆ me/schmidtn ┆          ┆           ┆             ┆         ┆             ┆         │\n",
       "│ /master/…   ┆ /master/…   ┆          ┆           ┆             ┆         ┆             ┆         │\n",
       "│ /cluster/ho ┆ /cluster/ho ┆ 0.347801 ┆ -1.056126 ┆ hf          ┆ def2svp ┆ rimp2       ┆ def2svp │\n",
       "│ me/schmidtn ┆ me/schmidtn ┆          ┆           ┆             ┆         ┆             ┆         │\n",
       "│ /master/…   ┆ /master/…   ┆          ┆           ┆             ┆         ┆             ┆         │\n",
       "│ /cluster/ho ┆ /cluster/ho ┆ 0.391529 ┆ -0.937697 ┆ hf          ┆ 631+gd  ┆ rimp2       ┆ def2svp │\n",
       "│ me/schmidtn ┆ me/schmidtn ┆          ┆           ┆             ┆         ┆             ┆         │\n",
       "│ /master/…   ┆ /master/…   ┆          ┆           ┆             ┆         ┆             ┆         │\n",
       "│ /cluster/ho ┆ /cluster/ho ┆ 0.5345   ┆ -0.626424 ┆ rimp2       ┆ def2svp ┆ pbe0        ┆ 631+gd  │\n",
       "│ me/schmidtn ┆ me/schmidtn ┆          ┆           ┆             ┆         ┆             ┆         │\n",
       "│ /master/…   ┆ /master/…   ┆          ┆           ┆             ┆         ┆             ┆         │\n",
       "│ /cluster/ho ┆ /cluster/ho ┆ 0.622597 ┆ -0.473855 ┆ rimp2       ┆ def2svp ┆ b2plyp      ┆ def2svp │\n",
       "│ me/schmidtn ┆ me/schmidtn ┆          ┆           ┆             ┆         ┆             ┆         │\n",
       "│ /master/…   ┆ /master/…   ┆          ┆           ┆             ┆         ┆             ┆         │\n",
       "│ /cluster/ho ┆ /cluster/ho ┆ 0.626725 ┆ -0.467247 ┆ rimp2       ┆ def2svp ┆ PBEh-3c     ┆ def2svp │\n",
       "│ me/schmidtn ┆ me/schmidtn ┆          ┆           ┆             ┆         ┆             ┆         │\n",
       "│ /master/…   ┆ /master/…   ┆          ┆           ┆             ┆         ┆             ┆         │\n",
       "│ /cluster/ho ┆ /cluster/ho ┆ 0.626725 ┆ -0.467247 ┆ rimp2       ┆ def2svp ┆ PBEh-3c     ┆ 631+gd  │\n",
       "│ me/schmidtn ┆ me/schmidtn ┆          ┆           ┆             ┆         ┆             ┆         │\n",
       "│ /master/…   ┆ /master/…   ┆          ┆           ┆             ┆         ┆             ┆         │\n",
       "└─────────────┴─────────────┴──────────┴───────────┴─────────────┴─────────┴─────────────┴─────────┘"
      ]
     },
     "execution_count": 190,
     "metadata": {},
     "output_type": "execute_result"
    }
   ],
   "source": [
    "just_rimp2_comparisons.sort(\"rmsd\")"
   ]
  },
  {
   "cell_type": "code",
   "execution_count": 195,
   "id": "989b2d12-4c22-42ad-bb18-8b840922bb43",
   "metadata": {},
   "outputs": [
    {
     "data": {
      "text/plain": [
       "2.0"
      ]
     },
     "execution_count": 195,
     "metadata": {},
     "output_type": "execute_result"
    }
   ],
   "source": [
    "40*3600/50/60/24"
   ]
  },
  {
   "cell_type": "code",
   "execution_count": 200,
   "id": "decdbe1f-81a5-4e0c-805a-67b12713c8a6",
   "metadata": {},
   "outputs": [
    {
     "data": {
      "text/plain": [
       "1.875"
      ]
     },
     "execution_count": 200,
     "metadata": {},
     "output_type": "execute_result"
    }
   ],
   "source": [
    "7.5*40*3600/(8*50)/60/24"
   ]
  },
  {
   "cell_type": "code",
   "execution_count": null,
   "id": "b36888ca-18fc-4926-9393-192c65d8714e",
   "metadata": {},
   "outputs": [],
   "source": []
  }
 ],
 "metadata": {
  "kernelspec": {
   "display_name": "Python 3 (ipykernel)",
   "language": "python",
   "name": "python3"
  },
  "language_info": {
   "codemirror_mode": {
    "name": "ipython",
    "version": 3
   },
   "file_extension": ".py",
   "mimetype": "text/x-python",
   "name": "python",
   "nbconvert_exporter": "python",
   "pygments_lexer": "ipython3",
   "version": "3.10.12"
  }
 },
 "nbformat": 4,
 "nbformat_minor": 5
}
